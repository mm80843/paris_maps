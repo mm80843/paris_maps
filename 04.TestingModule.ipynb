{
 "cells": [
  {
   "cell_type": "code",
   "execution_count": 4,
   "id": "biological-rogers",
   "metadata": {},
   "outputs": [],
   "source": [
    "import pypama.__init__ as myway # loading the current, repo version\n",
    "#import pypama as myway         # import the module version"
   ]
  },
  {
   "cell_type": "code",
   "execution_count": 2,
   "id": "otherwise-cuisine",
   "metadata": {},
   "outputs": [],
   "source": [
    "%load_ext autoreload\n",
    "%autoreload 2\n",
    "# for autoreloads of live-made modifications to the module"
   ]
  },
  {
   "cell_type": "code",
   "execution_count": 3,
   "id": "miniature-satin",
   "metadata": {},
   "outputs": [],
   "source": [
    "m4p = myway.parisMap()"
   ]
  },
  {
   "cell_type": "code",
   "execution_count": null,
   "id": "concrete-potential",
   "metadata": {},
   "outputs": [],
   "source": []
  }
 ],
 "metadata": {
  "kernelspec": {
   "display_name": "Python 3",
   "language": "python",
   "name": "python3"
  },
  "language_info": {
   "codemirror_mode": {
    "name": "ipython",
    "version": 3
   },
   "file_extension": ".py",
   "mimetype": "text/x-python",
   "name": "python",
   "nbconvert_exporter": "python",
   "pygments_lexer": "ipython3",
   "version": "3.6.9"
  }
 },
 "nbformat": 4,
 "nbformat_minor": 5
}
