{
 "cells": [
  {
   "cell_type": "code",
   "execution_count": 47,
   "id": "biological-rogers",
   "metadata": {},
   "outputs": [],
   "source": [
    "import pypama.__init__ as myway # loading the current, repo version\n",
    "#import pypama as myway         # import the module version"
   ]
  },
  {
   "cell_type": "code",
   "execution_count": 48,
   "id": "otherwise-cuisine",
   "metadata": {},
   "outputs": [
    {
     "name": "stdout",
     "output_type": "stream",
     "text": [
      "The autoreload extension is already loaded. To reload it, use:\n",
      "  %reload_ext autoreload\n"
     ]
    }
   ],
   "source": [
    "%load_ext autoreload\n",
    "%autoreload 2\n",
    "# for autoreloads of live-made modifications to the module"
   ]
  },
  {
   "cell_type": "code",
   "execution_count": 49,
   "id": "miniature-satin",
   "metadata": {},
   "outputs": [],
   "source": [
    "m4p = myway.parisMap()\n",
    "m4p.debug = True"
   ]
  },
  {
   "cell_type": "code",
   "execution_count": 50,
   "id": "concrete-potential",
   "metadata": {},
   "outputs": [
    {
     "data": {
      "text/plain": [
       "(2.3550362, 48.8869476)"
      ]
     },
     "execution_count": 50,
     "metadata": {},
     "output_type": "execute_result"
    }
   ],
   "source": [
    "m4p.HOME"
   ]
  },
  {
   "cell_type": "code",
   "execution_count": 51,
   "id": "seeing-river",
   "metadata": {},
   "outputs": [
    {
     "name": "stdout",
     "output_type": "stream",
     "text": [
      "2342 2955\n"
     ]
    }
   ],
   "source": [
    "start, end = m4p.findClosest(m4p.HOME,m4p.WORK)"
   ]
  },
  {
   "cell_type": "code",
   "execution_count": 54,
   "id": "suffering-germany",
   "metadata": {},
   "outputs": [
    {
     "name": "stderr",
     "output_type": "stream",
     "text": [
      "/home/kelu/projets/paris_maps/pypama/parismaps.py:65: UserWarning:\n",
      "\n",
      "Geometry is in a geographic CRS. Results from 'length' are likely incorrect. Use 'GeoSeries.to_crs()' to re-project geometries to a projected CRS before this operation.\n",
      "\n",
      "\n",
      "/home/kelu/projets/paris_maps/pypama/parismaps.py:52: UserWarning:\n",
      "\n",
      "Geometry is in a geographic CRS. Results from 'buffer' are likely incorrect. Use 'GeoSeries.to_crs()' to re-project geometries to a projected CRS before this operation.\n",
      "\n",
      "\n",
      "/home/kelu/projets/paris_maps/pypama/parismaps.py:52: UserWarning:\n",
      "\n",
      "Geometry is in a geographic CRS. Results from 'buffer' are likely incorrect. Use 'GeoSeries.to_crs()' to re-project geometries to a projected CRS before this operation.\n",
      "\n",
      "\n"
     ]
    },
    {
     "data": {
      "text/plain": [
       "<networkx.classes.multidigraph.MultiDiGraph at 0x7f92880fd390>"
      ]
     },
     "execution_count": 54,
     "metadata": {},
     "output_type": "execute_result"
    }
   ],
   "source": [
    "pTrees,pLights,pGreenSpace,pFreshplace = 0.002, 0.002, 0.002, 0.002\n",
    "m4p.calculatePath(pTrees,pLights,pGreenSpace,pFreshplace)"
   ]
  },
  {
   "cell_type": "code",
   "execution_count": null,
   "id": "moved-letters",
   "metadata": {
    "scrolled": true
   },
   "outputs": [],
   "source": [
    "fig = myway.plot_path(m4p.graph, m4p.HOME, m4p.WORK, m4p.routeTrees, m4p.routeShort, m4p.trees, m4p.lights, m4p.vT)\n",
    "fig"
   ]
  },
  {
   "cell_type": "code",
   "execution_count": null,
   "id": "sapphire-jamaica",
   "metadata": {},
   "outputs": [],
   "source": [
    "m4p.routeShort"
   ]
  },
  {
   "cell_type": "code",
   "execution_count": null,
   "id": "stretch-grove",
   "metadata": {},
   "outputs": [],
   "source": [
    "m4p.path1"
   ]
  },
  {
   "cell_type": "code",
   "execution_count": null,
   "id": "residential-glucose",
   "metadata": {},
   "outputs": [],
   "source": [
    "from geopy.geocoders import Nominatim"
   ]
  },
  {
   "cell_type": "code",
   "execution_count": 58,
   "id": "innovative-jackson",
   "metadata": {},
   "outputs": [
    {
     "name": "stdout",
     "output_type": "stream",
     "text": [
      "4, Rue Myrha, Château Rouge, Quartier de Clignancourt, Paris 18e Arrondissement, Paris, Île-de-France, France métropolitaine, 75018, France\n"
     ]
    }
   ],
   "source": [
    "geolocator = Nominatim(user_agent=\"pypama\")\n",
    "location = geolocator.geocode(\"4 rue myrha 75018 Paris\")\n",
    "print(location.address)\n"
   ]
  },
  {
   "cell_type": "code",
   "execution_count": 59,
   "id": "looking-italian",
   "metadata": {},
   "outputs": [
    {
     "name": "stdout",
     "output_type": "stream",
     "text": [
      "(48.8873525, 2.3559566)\n"
     ]
    }
   ],
   "source": [
    "print((location.latitude, location.longitude))"
   ]
  },
  {
   "cell_type": "code",
   "execution_count": null,
   "id": "optimum-benjamin",
   "metadata": {},
   "outputs": [],
   "source": []
  }
 ],
 "metadata": {
  "kernelspec": {
   "display_name": "Python 3",
   "language": "python",
   "name": "python3"
  },
  "language_info": {
   "codemirror_mode": {
    "name": "ipython",
    "version": 3
   },
   "file_extension": ".py",
   "mimetype": "text/x-python",
   "name": "python",
   "nbconvert_exporter": "python",
   "pygments_lexer": "ipython3",
   "version": "3.6.9"
  }
 },
 "nbformat": 4,
 "nbformat_minor": 5
}
